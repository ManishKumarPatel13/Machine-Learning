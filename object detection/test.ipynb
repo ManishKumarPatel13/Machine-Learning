{
 "cells": [
  {
   "cell_type": "code",
   "execution_count": 2,
   "metadata": {},
   "outputs": [],
   "source": [
    "from ultralytics import YOLO\n",
    "import cv2\n",
    "model = YOLO(\"yolov10n.pt\")\n",
    "results = model.track(1,,stream=True, conf=0.2)\n",
    "# results[0].save(\"result.jpg\")"
   ]
  },
  {
   "cell_type": "code",
   "execution_count": 8,
   "metadata": {},
   "outputs": [
    {
     "name": "stdout",
     "output_type": "stream",
     "text": [
      "unable to open camera\n"
     ]
    }
   ],
   "source": [
    "import cv2\n",
    "cap = cv2.VideoCapture(0)\n",
    "while True:\n",
    "  # Take a picture with the camera\n",
    "  success, frame = cap.read()\n",
    "  if not cap.isOpened():\n",
    "    print(\"unable to open camera\")\n",
    "    break\n",
    "  if not success:\n",
    "    break\n",
    "  cv2.imshow('Hand', frame)\n",
    "  if cv2.waitKey(5) & 0xFF == 27:\n",
    "    break\n",
    "\n",
    "# Clean up the camera\n",
    "cap.release()\n",
    "cv2.destroyAllWindows()"
   ]
  },
  {
   "cell_type": "code",
   "execution_count": 13,
   "metadata": {},
   "outputs": [
    {
     "name": "stdout",
     "output_type": "stream",
     "text": [
      "\n",
      "image 1/1 M:\\Machine-Learning\\object detection\\10.jpg: 448x640 1 cup, 1 cell phone, 6 books, 1537.7ms\n",
      "Speed: 15.6ms preprocess, 1537.7ms inference, 0.0ms postprocess per image at shape (1, 3, 448, 640)\n"
     ]
    },
    {
     "data": {
      "text/plain": [
       "'re.jpg'"
      ]
     },
     "execution_count": 13,
     "metadata": {},
     "output_type": "execute_result"
    }
   ],
   "source": [
    "from ultralytics import YOLO\n",
    "\n",
    "# Load a pre-trained YOLOv10n model\n",
    "model = YOLO(\"yolov10m.pt\")\n",
    "\n",
    "# Perform object detection on an image\n",
    "results = model(\"M:\\\\Machine-Learning\\\\object detection\\\\10.jpg\")\n",
    "\n",
    "# Display the results\n",
    "results[0].save(\"re.jpg\")"
   ]
  }
 ],
 "metadata": {
  "kernelspec": {
   "display_name": "Python 3",
   "language": "python",
   "name": "python3"
  },
  "language_info": {
   "codemirror_mode": {
    "name": "ipython",
    "version": 3
   },
   "file_extension": ".py",
   "mimetype": "text/x-python",
   "name": "python",
   "nbconvert_exporter": "python",
   "pygments_lexer": "ipython3",
   "version": "3.9.19"
  }
 },
 "nbformat": 4,
 "nbformat_minor": 2
}
